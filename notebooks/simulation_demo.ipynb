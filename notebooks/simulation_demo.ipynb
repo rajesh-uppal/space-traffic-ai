{
 "cells": [
  {
   "cell_type": "markdown",
   "metadata": {},
   "source": [
    "# 🛰️ Space Traffic Simulation Demo\n",
    "\n",
    "This notebook demonstrates how to load TLE data, simulate satellite motion, and visualize orbits."
   ]
  },
  {
   "cell_type": "code",
   "execution_count": null,
   "metadata": {},
   "outputs": [],
   "source": [
    "# Load simulation functions\n",
    "from src.data_loader import load_sample_tle, propagate_satellite"
   ]
  },
  {
   "cell_type": "code",
   "execution_count": null,
   "metadata": {},
   "outputs": [],
   "source": [
    "# Load sample TLE\n",
    "tle_list = load_sample_tle()\n",
    "name, l1, l2 = tle_list[0]\n",
    "print(f\"Satellite: {name}\")"
   ]
  },
  {
   "cell_type": "code",
   "execution_count": null,
   "metadata": {},
   "outputs": [],
   "source": [
    "# Propagate satellite\n",
    "positions = propagate_satellite((name, l1, l2), minutes=90)\n",
    "print(f\"Propagated {len(positions)} positions.\")"
   ]
  },
  {
   "cell_type": "code",
   "execution_count": null,
   "metadata": {},
   "outputs": [],
   "source": [
    "# Visualize orbit\n",
    "import matplotlib.pyplot as plt\n",
    "\n",
    "xs, ys, zs = zip(*positions)\n",
    "fig = plt.figure(figsize=(6,6))\n",
    "ax = fig.add_subplot(111, projection='3d')\n",
    "ax.plot(xs, ys, zs, color='lime')\n",
    "ax.set_title('Orbit Path')\n",
    "plt.show()"
   ]
  }
 ],
 "metadata": {
  "kernelspec": {
   "display_name": "Python 3",
   "language": "python",
   "name": "python3"
  },
  "language_info": {
   "name": "python",
   "version": "3.9"
  }
 },
 "nbformat": 4,
 "nbformat_minor": 2
}
